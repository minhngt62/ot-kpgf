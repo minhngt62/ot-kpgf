{
 "cells": [
  {
   "cell_type": "code",
   "execution_count": 1,
   "metadata": {},
   "outputs": [
    {
     "name": "stdout",
     "output_type": "stream",
     "text": [
      "d:\\HUST\\OT factorization\\ot-kpgf\n"
     ]
    }
   ],
   "source": [
    "# Change working directory\n",
    "%cd .."
   ]
  },
  {
   "cell_type": "code",
   "execution_count": 2,
   "metadata": {},
   "outputs": [],
   "source": [
    "# Python ≥3.5 is required\n",
    "import sys\n",
    "assert sys.version_info >= (3, 5)\n",
    "\n",
    "# Disable warnings\n",
    "import warnings\n",
    "warnings.filterwarnings('ignore')\n",
    "\n",
    "# Scikit-Learn ≥0.20 is required\n",
    "import sklearn\n",
    "assert sklearn.__version__ >= \"0.20\"\n",
    "\n",
    "# Common imports\n",
    "import json\n",
    "import pandas as pd\n",
    "import numpy as np\n",
    "import scipy\n",
    "import os\n",
    "import ot\n",
    "from optimal_transport.models import KeypointFOT, FOT, LOT, EMD\n",
    "from optimal_transport.experiments import USPSToMNIST, DUMNIST, RobustSampling\n",
    "from typing import Tuple, Optional, List, Union, Dict\n",
    "\n",
    "# To make this notebook's output stable across runs\n",
    "np.random.seed(42)\n",
    "\n",
    "# To plot pretty figures\n",
    "%matplotlib inline\n",
    "import matplotlib as mpl\n",
    "import matplotlib.pyplot as plt\n",
    "mpl.rc('axes', labelsize=14)\n",
    "mpl.rc('xtick', labelsize=12)\n",
    "mpl.rc('ytick', labelsize=12)\n",
    "import seaborn as sns"
   ]
  },
  {
   "cell_type": "code",
   "execution_count": 3,
   "metadata": {},
   "outputs": [
    {
     "name": "stdout",
     "output_type": "stream",
     "text": [
      "Accuracy: {'mnist_train': 0.993, 'mnist_test': 0.9705, 'usps_train': 0.869, 'usps_test': 0.802}\n",
      "[KeypointFOT] Accuracy: 0.8305, Runtime: 13.172978639602661\n",
      "[FOT] Accuracy: 0.762, Runtime: 51.2611300945282\n",
      "[LOT] Accuracy: 0.7745, Runtime: 13.066596269607544\n",
      "[OT] Accuracy: 0.7655, Runtime: 0.16466641426086426\n"
     ]
    }
   ],
   "source": [
    "#@title USPS to MNIST\n",
    "n_anchors = 10\n",
    "model = {\n",
    "    \"KeypointFOT\": KeypointFOT(n_free_anchors=n_anchors, guide_mixing=0.5, stop_thr=1e-5,\n",
    "                               sinkhorn_reg=0.001, temperature=0.1, div_term=1e-20, max_iters=200),\n",
    "    \"FOT\": FOT(n_anchors=n_anchors, sinkhorn_reg=0.1),\n",
    "    \"LOT\": LOT(None, n_source_anchors=n_anchors, n_target_anchors=n_anchors, epsilon=10, epsilon_z=10),\n",
    "    \"OT\": EMD(),\n",
    "}\n",
    "experiment = USPSToMNIST(model=model, log_dir=\"logs\")\n",
    "results = experiment(keypoints_per_cls=1, n_keypoints=10)"
   ]
  },
  {
   "cell_type": "code",
   "execution_count": 3,
   "metadata": {},
   "outputs": [
    {
     "name": "stdout",
     "output_type": "stream",
     "text": [
      "Accuracy: {'mnist_train': 0.993, 'mnist_test': 0.9705, 'usps_train': 0.869, 'usps_test': 0.802}\n",
      "[None] Accuracy: 0.551\n",
      "[KeypointFOT] Accuracy: 0.607, L2: 132.37177445206217, Runtime: 78.66827607154846\n",
      "[FOT] Accuracy: 0.583, L2: 151.97987908276045, Runtime: 25.7286696434021\n",
      "[LOT] Accuracy: 0.604, L2: 145.59825904367545, Runtime: 11.030415773391724\n",
      "[OT] Accuracy: 0.574, L2: 168.57940716190117, Runtime: 0.07535743713378906\n"
     ]
    }
   ],
   "source": [
    "#@title DU-MNIST\n",
    "n_anchors = 10\n",
    "model = {\n",
    "    \"KeypointFOT\": KeypointFOT(n_free_anchors=n_anchors, guide_mixing=0.5, stop_thr=1e-5,\n",
    "                               sinkhorn_reg=0.001, temperature=0.1, div_term=1e-20, max_iters=200),\n",
    "    \"FOT\": FOT(n_anchors=n_anchors, sinkhorn_reg=0.1),\n",
    "    \"LOT\": LOT(None, n_source_anchors=n_anchors, n_target_anchors=n_anchors, epsilon=10, epsilon_z=10),\n",
    "    \"OT\": EMD(),\n",
    "}\n",
    "\n",
    "experiment = DUMNIST(model, log_dir=\"logs\")\n",
    "results = experiment(keypoints_per_cls=1, n_keypoints=7, dropout_cls=[0, 2, 8], size=1000)"
   ]
  },
  {
   "cell_type": "code",
   "execution_count": 3,
   "metadata": {},
   "outputs": [
    {
     "name": "stdout",
     "output_type": "stream",
     "text": [
      "Accuracy: {'mnist_train': 0.993, 'mnist_test': 0.9705, 'usps_train': 0.869, 'usps_test': 0.802}\n",
      "------ At 50 samples ------\n",
      "[KeypointFOT] Accuracy: 0.78, Runtime: 4.446635961532593\n",
      "[FOT] Accuracy: 0.74, Runtime: 14.531712293624878\n",
      "[LOT] Accuracy: 0.68, Runtime: 5.404627084732056\n",
      "[OT] Accuracy: 0.78, Runtime: 0.013541936874389648\n",
      "------ At 100 samples ------\n",
      "[KeypointFOT] Accuracy: 0.85, Runtime: 7.578572034835815\n",
      "[FOT] Accuracy: 0.77, Runtime: 26.16833996772766\n",
      "[LOT] Accuracy: 0.78, Runtime: 6.60899019241333\n",
      "[OT] Accuracy: 0.81, Runtime: 0.02692270278930664\n",
      "------ At 150 samples ------\n",
      "[KeypointFOT] Accuracy: 0.7866666666666666, Runtime: 12.964053869247437\n",
      "[FOT] Accuracy: 0.7333333333333333, Runtime: 34.875911235809326\n",
      "[LOT] Accuracy: 0.7266666666666667, Runtime: 7.214715242385864\n",
      "[OT] Accuracy: 0.7733333333333333, Runtime: 0.04052591323852539\n",
      "------ At 200 samples ------\n",
      "[KeypointFOT] Accuracy: 0.84, Runtime: 20.952702283859253\n",
      "[FOT] Accuracy: 0.735, Runtime: 35.50538110733032\n",
      "[LOT] Accuracy: 0.745, Runtime: 6.968077898025513\n",
      "[OT] Accuracy: 0.745, Runtime: 0.02538895606994629\n",
      "------ At 250 samples ------\n",
      "[KeypointFOT] Accuracy: 0.828, Runtime: 12.904067039489746\n",
      "[FOT] Accuracy: 0.756, Runtime: 22.528863430023193\n",
      "[LOT] Accuracy: 0.752, Runtime: 5.985226392745972\n",
      "[OT] Accuracy: 0.776, Runtime: 0.02984905242919922\n",
      "------ At 300 samples ------\n",
      "[KeypointFOT] Accuracy: 0.84, Runtime: 13.583243608474731\n",
      "[FOT] Accuracy: 0.74, Runtime: 48.528889656066895\n",
      "[LOT] Accuracy: 0.77, Runtime: 6.589376211166382\n",
      "[OT] Accuracy: 0.7533333333333333, Runtime: 0.03664660453796387\n",
      "------ At 350 samples ------\n",
      "[KeypointFOT] Accuracy: 0.8228571428571428, Runtime: 9.201460361480713\n",
      "[FOT] Accuracy: 0.7457142857142857, Runtime: 27.019339084625244\n",
      "[LOT] Accuracy: 0.7485714285714286, Runtime: 5.150192499160767\n",
      "[OT] Accuracy: 0.7428571428571429, Runtime: 0.04505801200866699\n",
      "------ At 400 samples ------\n",
      "[KeypointFOT] Accuracy: 0.8125, Runtime: 6.0460364818573\n",
      "[FOT] Accuracy: 0.74, Runtime: 33.75168776512146\n",
      "[LOT] Accuracy: 0.735, Runtime: 6.1333887577056885\n",
      "[OT] Accuracy: 0.7525, Runtime: 0.04167938232421875\n",
      "------ At 450 samples ------\n",
      "[KeypointFOT] Accuracy: 0.8111111111111111, Runtime: 7.917290687561035\n",
      "[FOT] Accuracy: 0.7444444444444445, Runtime: 66.81208157539368\n",
      "[LOT] Accuracy: 0.72, Runtime: 6.047854900360107\n",
      "[OT] Accuracy: 0.7466666666666667, Runtime: 0.09169268608093262\n",
      "------ At 500 samples ------\n",
      "[KeypointFOT] Accuracy: 0.804, Runtime: 6.424344539642334\n",
      "[FOT] Accuracy: 0.736, Runtime: 49.60024333000183\n",
      "[LOT] Accuracy: 0.768, Runtime: 4.432358264923096\n",
      "[OT] Accuracy: 0.72, Runtime: 0.09081506729125977\n",
      "------ At 550 samples ------\n",
      "[KeypointFOT] Accuracy: 0.8127272727272727, Runtime: 5.284166574478149\n",
      "[FOT] Accuracy: 0.7381818181818182, Runtime: 22.229011058807373\n",
      "[LOT] Accuracy: 0.7236363636363636, Runtime: 3.104377031326294\n",
      "[OT] Accuracy: 0.7436363636363637, Runtime: 0.1177217960357666\n",
      "------ At 600 samples ------\n",
      "[KeypointFOT] Accuracy: 0.8183333333333334, Runtime: 6.3653953075408936\n",
      "[FOT] Accuracy: 0.74, Runtime: 18.40382170677185\n",
      "[LOT] Accuracy: 0.7233333333333334, Runtime: 3.3790040016174316\n",
      "[OT] Accuracy: 0.725, Runtime: 0.05628800392150879\n",
      "------ At 650 samples ------\n",
      "[KeypointFOT] Accuracy: 0.8092307692307692, Runtime: 4.671573162078857\n",
      "[FOT] Accuracy: 0.7476923076923077, Runtime: 27.82306981086731\n",
      "[LOT] Accuracy: 0.7369230769230769, Runtime: 2.700850486755371\n",
      "[OT] Accuracy: 0.7369230769230769, Runtime: 0.06272482872009277\n",
      "------ At 700 samples ------\n",
      "[KeypointFOT] Accuracy: 0.7971428571428572, Runtime: 6.069847106933594\n",
      "[FOT] Accuracy: 0.7428571428571429, Runtime: 24.46370005607605\n",
      "[LOT] Accuracy: 0.7714285714285715, Runtime: 5.2503721714019775\n",
      "[OT] Accuracy: 0.7328571428571429, Runtime: 0.06482481956481934\n",
      "------ At 750 samples ------\n",
      "[KeypointFOT] Accuracy: 0.804, Runtime: 6.799495697021484\n",
      "[FOT] Accuracy: 0.744, Runtime: 29.946857452392578\n",
      "[LOT] Accuracy: 0.7813333333333333, Runtime: 5.168410062789917\n",
      "[OT] Accuracy: 0.728, Runtime: 0.06973576545715332\n",
      "------ At 800 samples ------\n",
      "[KeypointFOT] Accuracy: 0.81, Runtime: 8.543679475784302\n",
      "[FOT] Accuracy: 0.7475, Runtime: 26.850553035736084\n",
      "[LOT] Accuracy: 0.68625, Runtime: 3.5800604820251465\n",
      "[OT] Accuracy: 0.73375, Runtime: 0.06920576095581055\n",
      "------ At 850 samples ------\n",
      "[KeypointFOT] Accuracy: 0.8011764705882353, Runtime: 7.018351793289185\n",
      "[FOT] Accuracy: 0.7482352941176471, Runtime: 43.48717737197876\n",
      "[LOT] Accuracy: 0.6776470588235294, Runtime: 3.072277307510376\n",
      "[OT] Accuracy: 0.7305882352941176, Runtime: 0.08571243286132812\n",
      "------ At 900 samples ------\n",
      "[KeypointFOT] Accuracy: 0.7955555555555556, Runtime: 8.985085248947144\n",
      "[FOT] Accuracy: 0.7411111111111112, Runtime: 33.12939143180847\n",
      "[LOT] Accuracy: 0.72, Runtime: 3.791595935821533\n",
      "[OT] Accuracy: 0.7366666666666667, Runtime: 0.07721161842346191\n",
      "------ At 950 samples ------\n",
      "[KeypointFOT] Accuracy: 0.7947368421052632, Runtime: 6.951622486114502\n",
      "[FOT] Accuracy: 0.7357894736842105, Runtime: 22.977877855300903\n",
      "[LOT] Accuracy: 0.7378947368421053, Runtime: 4.365088701248169\n",
      "[OT] Accuracy: 0.7242105263157895, Runtime: 0.08465456962585449\n",
      "------ At 1000 samples ------\n",
      "[KeypointFOT] Accuracy: 0.803, Runtime: 6.174262762069702\n",
      "[FOT] Accuracy: 0.74, Runtime: 21.886518001556396\n",
      "[LOT] Accuracy: 0.728, Runtime: 4.892735004425049\n",
      "[OT] Accuracy: 0.715, Runtime: 0.07113456726074219\n"
     ]
    }
   ],
   "source": [
    "#@title Robust to sampling\n",
    "n_anchors = 10\n",
    "model = {\n",
    "    \"KeypointFOT\": KeypointFOT(n_free_anchors=n_anchors, guide_mixing=0.5, stop_thr=1e-5,\n",
    "                               sinkhorn_reg=0.001, temperature=0.1, div_term=1e-20, max_iters=200),\n",
    "    \"FOT\": FOT(n_anchors=n_anchors, sinkhorn_reg=0.1),\n",
    "    \"LOT\": LOT(None, n_source_anchors=n_anchors, n_target_anchors=n_anchors, epsilon=10, epsilon_z=10),\n",
    "    \"OT\": EMD(),\n",
    "}\n",
    "\n",
    "experiment = RobustSampling(model, log_dir=\"logs\")\n",
    "results = experiment(keypoints_per_cls=1, n_keypoints=10, min_samples=50, max_samples=1000, freq_samples=50)"
   ]
  }
 ],
 "metadata": {
  "kernelspec": {
   "display_name": "ot-kpgf",
   "language": "python",
   "name": "python3"
  },
  "language_info": {
   "codemirror_mode": {
    "name": "ipython",
    "version": 3
   },
   "file_extension": ".py",
   "mimetype": "text/x-python",
   "name": "python",
   "nbconvert_exporter": "python",
   "pygments_lexer": "ipython3",
   "version": "3.10.0"
  }
 },
 "nbformat": 4,
 "nbformat_minor": 2
}
