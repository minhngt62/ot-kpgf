{
 "cells": [
  {
   "cell_type": "code",
   "execution_count": 1,
   "metadata": {},
   "outputs": [
    {
     "name": "stdout",
     "output_type": "stream",
     "text": [
      "d:\\HUST\\OT factorization\\ot-kpgf\n"
     ]
    },
    {
     "name": "stderr",
     "output_type": "stream",
     "text": [
      "c:\\Users\\nguye\\Apps\\anaconda3\\envs\\ot-kpgf\\lib\\site-packages\\IPython\\core\\magics\\osm.py:417: UserWarning: This is now an optional IPython functionality, setting dhist requires you to install the `pickleshare` library.\n",
      "  self.shell.db['dhist'] = compress_dhist(dhist)[-100:]\n"
     ]
    }
   ],
   "source": [
    "# Change working directory\n",
    "%cd .."
   ]
  },
  {
   "cell_type": "code",
   "execution_count": 2,
   "metadata": {},
   "outputs": [],
   "source": [
    "# Python ≥3.5 is required\n",
    "import sys\n",
    "assert sys.version_info >= (3, 5)\n",
    "\n",
    "# Disable warnings\n",
    "import warnings\n",
    "warnings.filterwarnings('ignore')\n",
    "\n",
    "# Scikit-Learn ≥0.20 is required\n",
    "import sklearn\n",
    "assert sklearn.__version__ >= \"0.20\"\n",
    "\n",
    "# Common imports\n",
    "import json\n",
    "import pandas as pd\n",
    "import numpy as np\n",
    "import scipy\n",
    "import os\n",
    "import ot\n",
    "from optimal_transport.models import KeypointFOT, FOT, LOT, EMD\n",
    "from optimal_transport.experiments import USPSToMNIST, DUMNIST, RobustSampling\n",
    "from typing import Tuple, Optional, List, Union, Dict\n",
    "\n",
    "# To make this notebook's output stable across runs\n",
    "np.random.seed(42)\n",
    "\n",
    "# To plot pretty figures\n",
    "%matplotlib inline\n",
    "import matplotlib as mpl\n",
    "import matplotlib.pyplot as plt\n",
    "mpl.rc('axes', labelsize=14)\n",
    "mpl.rc('xtick', labelsize=12)\n",
    "mpl.rc('ytick', labelsize=12)\n",
    "import seaborn as sns"
   ]
  },
  {
   "cell_type": "code",
   "execution_count": null,
   "metadata": {},
   "outputs": [],
   "source": [
    "#@title USPS to MNIST\n",
    "n_anchors = 10\n",
    "model = {\n",
    "    \"KeypointFOT\": KeypointFOT(n_free_anchors=n_anchors, guide_mixing=0.5, stop_thr=1e-5,\n",
    "                               sinkhorn_reg=0.0005, temperature=0.1, div_term=1e-20, max_iters=200),\n",
    "    \"FOT\": FOT(n_anchors=n_anchors, sinkhorn_reg=0.1),\n",
    "    \"LOT\": LOT(None, n_source_anchors=n_anchors, n_target_anchors=n_anchors, epsilon=10, epsilon_z=10),\n",
    "    \"OT\": EMD(),\n",
    "}\n",
    "experiment = USPSToMNIST(model=model, log_dir=\"logs\")\n",
    "results = experiment(keypoints_per_cls=1, n_keypoints=10)"
   ]
  },
  {
   "cell_type": "code",
   "execution_count": 3,
   "metadata": {},
   "outputs": [
    {
     "name": "stdout",
     "output_type": "stream",
     "text": [
      "Accuracy: {'mnist_train': 0.993, 'mnist_test': 0.9705, 'usps_train': 0.869, 'usps_test': 0.802}\n",
      "[None] Accuracy: 0.551\n",
      "[KeypointFOT] Accuracy: 0.607, L2: 132.37177445206217, Runtime: 78.66827607154846\n",
      "[FOT] Accuracy: 0.583, L2: 151.97987908276045, Runtime: 25.7286696434021\n",
      "[LOT] Accuracy: 0.604, L2: 145.59825904367545, Runtime: 11.030415773391724\n",
      "[OT] Accuracy: 0.574, L2: 168.57940716190117, Runtime: 0.07535743713378906\n"
     ]
    }
   ],
   "source": [
    "#@title DU-MNIST\n",
    "n_anchors = 10\n",
    "model = {\n",
    "    \"KeypointFOT\": KeypointFOT(n_free_anchors=n_anchors, guide_mixing=0.5, stop_thr=1e-5,\n",
    "                               sinkhorn_reg=0.0005, temperature=0.1, div_term=1e-20, max_iters=200),\n",
    "    \"FOT\": FOT(n_anchors=n_anchors, sinkhorn_reg=0.1),\n",
    "    \"LOT\": LOT(None, n_source_anchors=n_anchors, n_target_anchors=n_anchors, epsilon=10, epsilon_z=10),\n",
    "    \"OT\": EMD(),\n",
    "}\n",
    "\n",
    "experiment = DUMNIST(model, log_dir=\"logs\")\n",
    "results = experiment(keypoints_per_cls=1, n_keypoints=7, dropout_cls=[0, 2, 8], size=1000)"
   ]
  },
  {
   "cell_type": "code",
   "execution_count": 3,
   "metadata": {},
   "outputs": [
    {
     "name": "stdout",
     "output_type": "stream",
     "text": [
      "Accuracy: {'mnist_train': 0.993, 'mnist_test': 0.9705, 'usps_train': 0.869, 'usps_test': 0.802}\n",
      "------ At 50 samples ------\n",
      "[KeypointFOT] Accuracy: 0.692, Runtime: 15.49954867362976\n",
      "[FOT] Accuracy: 0.7195, Runtime: 58.9758243560791\n",
      "[LOT] Accuracy: 0.654, Runtime: 3.416776657104492\n",
      "[OT] Accuracy: 0.642, Runtime: 0.04834270477294922\n",
      "------ At 100 samples ------\n",
      "[KeypointFOT] Accuracy: 0.778, Runtime: 15.707824468612671\n",
      "[FOT] Accuracy: 0.739, Runtime: 40.444132566452026\n",
      "[LOT] Accuracy: 0.6805, Runtime: 3.4003310203552246\n",
      "[OT] Accuracy: 0.6965, Runtime: 0.027119874954223633\n",
      "------ At 150 samples ------\n"
     ]
    },
    {
     "ename": "KeyboardInterrupt",
     "evalue": "",
     "output_type": "error",
     "traceback": [
      "\u001b[1;31m---------------------------------------------------------------------------\u001b[0m",
      "\u001b[1;31mKeyboardInterrupt\u001b[0m                         Traceback (most recent call last)",
      "Cell \u001b[1;32mIn[3], line 12\u001b[0m\n\u001b[0;32m      3\u001b[0m model \u001b[38;5;241m=\u001b[39m {\n\u001b[0;32m      4\u001b[0m     \u001b[38;5;124m\"\u001b[39m\u001b[38;5;124mKeypointFOT\u001b[39m\u001b[38;5;124m\"\u001b[39m: KeypointFOT(n_free_anchors\u001b[38;5;241m=\u001b[39mn_anchors, guide_mixing\u001b[38;5;241m=\u001b[39m\u001b[38;5;241m0.5\u001b[39m, stop_thr\u001b[38;5;241m=\u001b[39m\u001b[38;5;241m1e-5\u001b[39m,\n\u001b[0;32m      5\u001b[0m                                sinkhorn_reg\u001b[38;5;241m=\u001b[39m\u001b[38;5;241m0.001\u001b[39m, temperature\u001b[38;5;241m=\u001b[39m\u001b[38;5;241m0.1\u001b[39m, div_term\u001b[38;5;241m=\u001b[39m\u001b[38;5;241m1e-20\u001b[39m, max_iters\u001b[38;5;241m=\u001b[39m\u001b[38;5;241m200\u001b[39m),\n\u001b[1;32m   (...)\u001b[0m\n\u001b[0;32m      8\u001b[0m     \u001b[38;5;124m\"\u001b[39m\u001b[38;5;124mOT\u001b[39m\u001b[38;5;124m\"\u001b[39m: EMD(),\n\u001b[0;32m      9\u001b[0m }\n\u001b[0;32m     11\u001b[0m experiment \u001b[38;5;241m=\u001b[39m RobustSampling(model, log_dir\u001b[38;5;241m=\u001b[39m\u001b[38;5;124m\"\u001b[39m\u001b[38;5;124mlogs\u001b[39m\u001b[38;5;124m\"\u001b[39m)\n\u001b[1;32m---> 12\u001b[0m results \u001b[38;5;241m=\u001b[39m \u001b[43mexperiment\u001b[49m\u001b[43m(\u001b[49m\u001b[43mkeypoints_per_cls\u001b[49m\u001b[38;5;241;43m=\u001b[39;49m\u001b[38;5;241;43m1\u001b[39;49m\u001b[43m,\u001b[49m\u001b[43m \u001b[49m\u001b[43mn_keypoints\u001b[49m\u001b[38;5;241;43m=\u001b[39;49m\u001b[38;5;241;43m10\u001b[39;49m\u001b[43m,\u001b[49m\u001b[43m \u001b[49m\n\u001b[0;32m     13\u001b[0m \u001b[43m                     \u001b[49m\u001b[43mmin_samples\u001b[49m\u001b[38;5;241;43m=\u001b[39;49m\u001b[38;5;241;43m50\u001b[39;49m\u001b[43m,\u001b[49m\u001b[43m \u001b[49m\u001b[43mmax_samples\u001b[49m\u001b[38;5;241;43m=\u001b[39;49m\u001b[38;5;241;43m1000\u001b[39;49m\u001b[43m,\u001b[49m\u001b[43m \u001b[49m\u001b[43mfreq_samples\u001b[49m\u001b[38;5;241;43m=\u001b[39;49m\u001b[38;5;241;43m50\u001b[39;49m\u001b[43m)\u001b[49m\n",
      "File \u001b[1;32md:\\HUST\\OT factorization\\ot-kpgf\\optimal_transport\\experiments\\domain_adaptation.py:293\u001b[0m, in \u001b[0;36mRobustSampling.__call__\u001b[1;34m(self, keypoints_per_cls, n_keypoints, min_samples, max_samples, freq_samples)\u001b[0m\n\u001b[0;32m    291\u001b[0m \u001b[38;5;28;01mfor\u001b[39;00m model_id \u001b[38;5;129;01min\u001b[39;00m \u001b[38;5;28mself\u001b[39m\u001b[38;5;241m.\u001b[39mmodel:\n\u001b[0;32m    292\u001b[0m     start \u001b[38;5;241m=\u001b[39m time\u001b[38;5;241m.\u001b[39mtime()\n\u001b[1;32m--> 293\u001b[0m     adapt_logits \u001b[38;5;241m=\u001b[39m \u001b[38;5;28;43mself\u001b[39;49m\u001b[38;5;241;43m.\u001b[39;49m\u001b[43mrun\u001b[49m\u001b[43m(\u001b[49m\u001b[43musps_test_logits\u001b[49m\u001b[43m,\u001b[49m\u001b[43m \u001b[49m\u001b[43mmnist_train_logits\u001b[49m\u001b[43m[\u001b[49m\u001b[43minds_exp\u001b[49m\u001b[43m]\u001b[49m\u001b[43m,\u001b[49m\u001b[43m \u001b[49m\u001b[38;5;28;43mself\u001b[39;49m\u001b[38;5;241;43m.\u001b[39;49m\u001b[43mmodel\u001b[49m\u001b[43m[\u001b[49m\u001b[43mmodel_id\u001b[49m\u001b[43m]\u001b[49m\u001b[43m,\u001b[49m\u001b[43m \u001b[49m\u001b[43mK\u001b[49m\u001b[38;5;241;43m=\u001b[39;49m\u001b[43mK\u001b[49m\u001b[43m)\u001b[49m\n\u001b[0;32m    295\u001b[0m     \u001b[38;5;28mself\u001b[39m\u001b[38;5;241m.\u001b[39mrecord_[\u001b[38;5;28mself\u001b[39m\u001b[38;5;241m.\u001b[39mexp_name][model_id][\u001b[38;5;124m\"\u001b[39m\u001b[38;5;124maccuracy\u001b[39m\u001b[38;5;124m\"\u001b[39m]\u001b[38;5;241m.\u001b[39mappend(DomainAdaptation\u001b[38;5;241m.\u001b[39maccuracy(adapt_logits, \u001b[38;5;28mself\u001b[39m\u001b[38;5;241m.\u001b[39musps_y_test\u001b[38;5;241m.\u001b[39mnumpy()))\n\u001b[0;32m    296\u001b[0m     \u001b[38;5;28mself\u001b[39m\u001b[38;5;241m.\u001b[39mrecord_[\u001b[38;5;28mself\u001b[39m\u001b[38;5;241m.\u001b[39mexp_name][model_id][\u001b[38;5;124m\"\u001b[39m\u001b[38;5;124mruntime\u001b[39m\u001b[38;5;124m\"\u001b[39m]\u001b[38;5;241m.\u001b[39mappend(time\u001b[38;5;241m.\u001b[39mtime() \u001b[38;5;241m-\u001b[39m start)\n",
      "File \u001b[1;32md:\\HUST\\OT factorization\\ot-kpgf\\optimal_transport\\experiments\\domain_adaptation.py:56\u001b[0m, in \u001b[0;36mDomainAdaptation.run\u001b[1;34m(self, xs, xt, model, **kwargs)\u001b[0m\n\u001b[0;32m     52\u001b[0m \u001b[38;5;28;01mdef\u001b[39;00m \u001b[38;5;21mrun\u001b[39m(\n\u001b[0;32m     53\u001b[0m     \u001b[38;5;28mself\u001b[39m, xs: np\u001b[38;5;241m.\u001b[39mndarray, xt: np\u001b[38;5;241m.\u001b[39mndarray, model: _OT, \u001b[38;5;241m*\u001b[39m\u001b[38;5;241m*\u001b[39mkwargs\n\u001b[0;32m     54\u001b[0m ) \u001b[38;5;241m-\u001b[39m\u001b[38;5;241m>\u001b[39m np\u001b[38;5;241m.\u001b[39mndarray:\n\u001b[0;32m     55\u001b[0m     n, n_ \u001b[38;5;241m=\u001b[39m xs\u001b[38;5;241m.\u001b[39mshape[\u001b[38;5;241m0\u001b[39m], xt\u001b[38;5;241m.\u001b[39mshape[\u001b[38;5;241m0\u001b[39m]\n\u001b[1;32m---> 56\u001b[0m     model\u001b[38;5;241m.\u001b[39mfit(xs, xt, a\u001b[38;5;241m=\u001b[39m\u001b[38;5;241m1\u001b[39m\u001b[38;5;241m/\u001b[39mn\u001b[38;5;241m*\u001b[39mnp\u001b[38;5;241m.\u001b[39mones(n), b\u001b[38;5;241m=\u001b[39m\u001b[38;5;241m1\u001b[39m\u001b[38;5;241m/\u001b[39mn_\u001b[38;5;241m*\u001b[39mnp\u001b[38;5;241m.\u001b[39mones(n_), \u001b[38;5;241m*\u001b[39m\u001b[38;5;241m*\u001b[39mkwargs)\n\u001b[0;32m     57\u001b[0m     \u001b[38;5;28;01mreturn\u001b[39;00m model\u001b[38;5;241m.\u001b[39mtransport(xs, xt)\n",
      "File \u001b[1;32md:\\HUST\\OT factorization\\ot-kpgf\\optimal_transport\\models\\factored.py:56\u001b[0m, in \u001b[0;36mKeypointFOT.fit\u001b[1;34m(self, xs, xt, a, b, K, **kwargs)\u001b[0m\n\u001b[0;32m     54\u001b[0m \u001b[38;5;28;01mfor\u001b[39;00m i \u001b[38;5;129;01min\u001b[39;00m \u001b[38;5;28mrange\u001b[39m(\u001b[38;5;28mself\u001b[39m\u001b[38;5;241m.\u001b[39mmax_iters):\n\u001b[0;32m     55\u001b[0m     Cs, Ct \u001b[38;5;241m=\u001b[39m \u001b[38;5;28mself\u001b[39m\u001b[38;5;241m.\u001b[39m_compute_cost_matrices(xs, xt, z, I, L, J)\n\u001b[1;32m---> 56\u001b[0m     Ps \u001b[38;5;241m=\u001b[39m \u001b[38;5;28;43mself\u001b[39;49m\u001b[38;5;241;43m.\u001b[39;49m\u001b[43m_update_plans\u001b[49m\u001b[43m(\u001b[49m\u001b[43ma\u001b[49m\u001b[43m,\u001b[49m\u001b[43m \u001b[49m\u001b[43mh\u001b[49m\u001b[43m,\u001b[49m\u001b[43m \u001b[49m\u001b[43mCs\u001b[49m\u001b[43m,\u001b[49m\u001b[43m \u001b[49m\u001b[43mMs\u001b[49m\u001b[43m)\u001b[49m\n\u001b[0;32m     57\u001b[0m     Pt \u001b[38;5;241m=\u001b[39m \u001b[38;5;28mself\u001b[39m\u001b[38;5;241m.\u001b[39m_update_plans(h, b, Ct, Mt)\n\u001b[0;32m     58\u001b[0m     z \u001b[38;5;241m=\u001b[39m \u001b[38;5;28mself\u001b[39m\u001b[38;5;241m.\u001b[39m_update_anchors(xs, xt, Ps, Pt)\n",
      "File \u001b[1;32md:\\HUST\\OT factorization\\ot-kpgf\\optimal_transport\\models\\factored.py:148\u001b[0m, in \u001b[0;36mKeypointFOT._update_plans\u001b[1;34m(self, p, q, C, mask)\u001b[0m\n\u001b[0;32m    146\u001b[0m \u001b[38;5;28;01mfor\u001b[39;00m i \u001b[38;5;129;01min\u001b[39;00m \u001b[38;5;28mrange\u001b[39m(\u001b[38;5;28mself\u001b[39m\u001b[38;5;241m.\u001b[39mmax_iters):\n\u001b[0;32m    147\u001b[0m     u1 \u001b[38;5;241m=\u001b[39m u  \u001b[38;5;66;03m# useful to check the update\u001b[39;00m\n\u001b[1;32m--> 148\u001b[0m     u \u001b[38;5;241m=\u001b[39m \u001b[38;5;28mself\u001b[39m\u001b[38;5;241m.\u001b[39meps \u001b[38;5;241m*\u001b[39m (np\u001b[38;5;241m.\u001b[39mlog(p) \u001b[38;5;241m-\u001b[39m \u001b[43mlse\u001b[49m\u001b[43m(\u001b[49m\u001b[43mM\u001b[49m\u001b[43m(\u001b[49m\u001b[43mu\u001b[49m\u001b[43m,\u001b[49m\u001b[43m \u001b[49m\u001b[43mv\u001b[49m\u001b[43m)\u001b[49m\u001b[43m)\u001b[49m\u001b[38;5;241m.\u001b[39msqueeze()) \u001b[38;5;241m+\u001b[39m u\n\u001b[0;32m    149\u001b[0m     v \u001b[38;5;241m=\u001b[39m \u001b[38;5;28mself\u001b[39m\u001b[38;5;241m.\u001b[39meps \u001b[38;5;241m*\u001b[39m (np\u001b[38;5;241m.\u001b[39mlog(q) \u001b[38;5;241m-\u001b[39m lse(M(u, v)\u001b[38;5;241m.\u001b[39mT)\u001b[38;5;241m.\u001b[39msqueeze()) \u001b[38;5;241m+\u001b[39m v\n\u001b[0;32m    150\u001b[0m     err \u001b[38;5;241m=\u001b[39m np\u001b[38;5;241m.\u001b[39mlinalg\u001b[38;5;241m.\u001b[39mnorm(u \u001b[38;5;241m-\u001b[39m u1)\n",
      "File \u001b[1;32md:\\HUST\\OT factorization\\ot-kpgf\\optimal_transport\\models\\factored.py:142\u001b[0m, in \u001b[0;36mKeypointFOT._update_plans.<locals>.lse\u001b[1;34m(A)\u001b[0m\n\u001b[0;32m    140\u001b[0m \u001b[38;5;124m\"\u001b[39m\u001b[38;5;124mlog-sum-exp\u001b[39m\u001b[38;5;124m\"\u001b[39m\n\u001b[0;32m    141\u001b[0m max_A \u001b[38;5;241m=\u001b[39m np\u001b[38;5;241m.\u001b[39mmax(A, axis\u001b[38;5;241m=\u001b[39m\u001b[38;5;241m1\u001b[39m, keepdims\u001b[38;5;241m=\u001b[39m\u001b[38;5;28;01mTrue\u001b[39;00m)\n\u001b[1;32m--> 142\u001b[0m \u001b[38;5;28;01mreturn\u001b[39;00m np\u001b[38;5;241m.\u001b[39mlog(\u001b[43mnp\u001b[49m\u001b[38;5;241;43m.\u001b[39;49m\u001b[43mexp\u001b[49m\u001b[43m(\u001b[49m\u001b[43mA\u001b[49m\u001b[38;5;241;43m-\u001b[39;49m\u001b[43mmax_A\u001b[49m\u001b[43m)\u001b[49m\u001b[38;5;241m.\u001b[39msum(\u001b[38;5;241m1\u001b[39m, keepdims\u001b[38;5;241m=\u001b[39m\u001b[38;5;28;01mTrue\u001b[39;00m) \u001b[38;5;241m+\u001b[39m \u001b[38;5;28mself\u001b[39m\u001b[38;5;241m.\u001b[39mdiv_term) \u001b[38;5;241m+\u001b[39m max_A\n",
      "\u001b[1;31mKeyboardInterrupt\u001b[0m: "
     ]
    }
   ],
   "source": [
    "#@title Robust to sampling\n",
    "n_anchors = 10\n",
    "model = {\n",
    "    \"KeypointFOT\": KeypointFOT(n_free_anchors=n_anchors, guide_mixing=0.5, stop_thr=1e-5,\n",
    "                               sinkhorn_reg=0.0005, temperature=0.1, div_term=1e-20, max_iters=200),\n",
    "    \"FOT\": FOT(n_anchors=n_anchors, sinkhorn_reg=0.1),\n",
    "    \"LOT\": LOT(None, n_source_anchors=n_anchors, n_target_anchors=n_anchors, epsilon=10, epsilon_z=10),\n",
    "    \"OT\": EMD(),\n",
    "}\n",
    "\n",
    "experiment = RobustSampling(model, log_dir=\"logs\")\n",
    "results = experiment(keypoints_per_cls=1, n_keypoints=10, \n",
    "                     min_samples=50, max_samples=1000, freq_samples=50)"
   ]
  }
 ],
 "metadata": {
  "kernelspec": {
   "display_name": "ot-kpgf",
   "language": "python",
   "name": "python3"
  },
  "language_info": {
   "codemirror_mode": {
    "name": "ipython",
    "version": 3
   },
   "file_extension": ".py",
   "mimetype": "text/x-python",
   "name": "python",
   "nbconvert_exporter": "python",
   "pygments_lexer": "ipython3",
   "version": "3.10.0"
  }
 },
 "nbformat": 4,
 "nbformat_minor": 2
}
